{
 "cells": [
  {
   "cell_type": "markdown",
   "id": "22fca8e5",
   "metadata": {},
   "source": [
    "# Jupyter Notebook du Projet Velib - MDI230\n",
    "\n",
    "Fait par CHARPENTIER Antoine, MENIOLLE Alban et MORANTIN Bastien."
   ]
  },
  {
   "cell_type": "markdown",
   "id": "3fc9f135",
   "metadata": {},
   "source": [
    "## Données initiales\n",
    "\n",
    "Tout d'abord, nous commencons par entre les données initiales fournies dans l'énoncé, pour le cas des elibs de Rouen avec 5 stations :"
   ]
  },
  {
   "cell_type": "code",
   "execution_count": 3,
   "id": "77f4ac04",
   "metadata": {},
   "outputs": [],
   "source": [
    "Tmoy = [[0,3,5,7,7],[2,0,2,5,5],[4,2,0,3,3],[8,6,4,0,2],[7,7,5,5,2,0]]"
   ]
  },
  {
   "cell_type": "code",
   "execution_count": null,
   "id": "7aa48809",
   "metadata": {},
   "outputs": [],
   "source": [
    "# Données \n",
    "tau =[[0,3,5,7,7],\n",
    "     [2,0,2,5,5],\n",
    "     [4,2,0,3,3],\n",
    "     [8,6,4,0,2],\n",
    "     [7,7,5,2,0]]\n",
    "\n",
    "lambda = [[2.8,3.7,5.5,3.5,4.6]]"
   ]
  }
 ],
 "metadata": {
  "kernelspec": {
   "display_name": "Python 3",
   "language": "python",
   "name": "python3"
  },
  "language_info": {
   "codemirror_mode": {
    "name": "ipython",
    "version": 3
   },
   "file_extension": ".py",
   "mimetype": "text/x-python",
   "name": "python",
   "nbconvert_exporter": "python",
   "pygments_lexer": "ipython3",
   "version": "3.8.8"
  }
 },
 "nbformat": 4,
 "nbformat_minor": 5
}
