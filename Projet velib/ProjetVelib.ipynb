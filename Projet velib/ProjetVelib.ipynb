{
 "cells": [
  {
   "cell_type": "markdown",
   "id": "22fca8e5",
   "metadata": {},
   "source": [
    "# Jupyter Notebook du Projet Velib - MDI230\n",
    "\n",
    "Fait par CHARPENTIER Antoine, MENIOLLE Alban et MORANTIN Bastien."
   ]
  },
  {
   "cell_type": "markdown",
   "id": "3fc9f135",
   "metadata": {},
   "source": [
    "## Données initiales\n",
    "\n",
    "Tout d'abord, nous commencons par entre les données initiales fournies dans l'énoncé, pour le cas des elibs de Rouen avec 5 stations :"
   ]
  },
  {
   "cell_type": "code",
   "execution_count": 1,
   "id": "d4677bb8",
   "metadata": {},
   "outputs": [],
   "source": [
    "import numpy as np"
   ]
  },
  {
   "cell_type": "code",
   "execution_count": 14,
   "id": "7aa48809",
   "metadata": {},
   "outputs": [],
   "source": [
    "# Données \n",
    "tau =np.array([[0,3,5,7,7],\n",
    "     [2,0,2,5,5],\n",
    "     [4,2,0,3,3],\n",
    "     [8,6,4,0,2],\n",
    "     [7,7,5,2,0]])*60\n",
    "#On passe de minutes en secondes\n",
    "\n",
    "Lambda = np.array([2.8, 3.7, 5.5, 3.5, 4.6])/3600 \n",
    "#on passe d'un taux de départ en heures à secondes \n",
    "\n",
    "P = np.array([[0, 0.22, 0.32, 0.2, 0.26],\n",
    "              [0.17, 0, 0.34, 0.21, 0.28],\n",
    "              [0.19, 0.26, 0, 0.24, 0.31],\n",
    "              [0.17, 0.22, 0.33, 0, 0.28],\n",
    "              [0.18, 0.24, 0.35, 0.23, 0]])\n",
    "\n",
    "N=np.array([20, 15, 17, 13, 18])\n",
    "\n",
    "Nt=np.array([[0,1,0,0,0],\n",
    "            [1,0,1,0,0],\n",
    "            [0,1,0,1,0],\n",
    "            [0,0,1,0,1],\n",
    "            [0,0,0,1,0]])\n",
    "\n"
   ]
  },
  {
   "cell_type": "markdown",
   "id": "9e006198",
   "metadata": {},
   "source": [
    "##### On reprend la même modélisation qu'en classe avec les colonies, on a donc l'espace d'état composé des stations i mais aussi des trajets de i vers j.On a donc: \n",
    "#####  •les lambda i vers tij pour un vélo qui part de la station i pour faire le trajet tij et \n",
    "##### • les lambda tij vers j pour un vélo qui arrive à la station j après le trajet tij"
   ]
  },
  {
   "cell_type": "code",
   "execution_count": 20,
   "id": "77b2fbe1",
   "metadata": {},
   "outputs": [],
   "source": [
    "#Étant donné qu'il ya beaucoup de tau communs et qu'il y a deux matrices lambda,\n",
    "#on peut utiliser une fonction plutôt qu'une matrice:\n",
    "\n",
    "def Lambda_tij_j(i,j):\n",
    "    return 1/tau[i][j]\n",
    "\n",
    "def Lambda_i_tij(i,j):\n",
    "    return Lambda[i]*P[i][j]"
   ]
  },
  {
   "cell_type": "code",
   "execution_count": null,
   "id": "d013d196",
   "metadata": {},
   "outputs": [],
   "source": []
  }
 ],
 "metadata": {
  "kernelspec": {
   "display_name": "Python 3",
   "language": "python",
   "name": "python3"
  },
  "language_info": {
   "codemirror_mode": {
    "name": "ipython",
    "version": 3
   },
   "file_extension": ".py",
   "mimetype": "text/x-python",
   "name": "python",
   "nbconvert_exporter": "python",
   "pygments_lexer": "ipython3",
   "version": "3.8.8"
  }
 },
 "nbformat": 4,
 "nbformat_minor": 5
}
