{
 "cells": [
  {
   "cell_type": "markdown",
   "metadata": {},
   "source": [
    "# Jupyter Notebook du Projet Velib - MDI230\n",
    "\n",
    "Fait par CHARPENTIER Antoine, MENIOLLE Alban et MORANTIN Bastien."
   ]
  },
  {
   "cell_type": "markdown",
   "metadata": {},
   "source": [
    "Nous commençons par importer toutes les bibliothèques dont nous aurons besoin pour ce projet :"
   ]
  },
  {
   "cell_type": "code",
   "execution_count": 1,
   "metadata": {},
   "outputs": [],
   "source": [
    "import numpy as np\n",
    "import pandas as pd\n",
    "import matplotlib.pyplot as plt"
   ]
  },
  {
   "cell_type": "markdown",
   "metadata": {},
   "source": [
    "## Données initiales\n",
    "\n",
    "Tout d'abord, nous commencons par entre les données initiales fournies dans l'énoncé, pour le cas des velibs de Rouen avec 5 stations :"
   ]
  },
  {
   "cell_type": "code",
   "execution_count": 2,
   "metadata": {},
   "outputs": [],
   "source": [
    "# Données \n",
    "N_stations = 5\n",
    "tau =np.array([[0,3,5,7,7],\n",
    "     [2,0,2,5,5],\n",
    "     [4,2,0,3,3],\n",
    "     [8,6,4,0,2],\n",
    "     [7,7,5,2,0]])*60\n",
    "#On passe de minutes en secondes\n",
    "\n",
    "Lambda = np.array([2.8, 3.7, 5.5, 3.5, 4.6])/3600 \n",
    "#on passe d'un taux de départ en heures à secondes \n",
    "\n",
    "P = np.array([[0, 0.22, 0.32, 0.2, 0.26],\n",
    "              [0.17, 0, 0.34, 0.21, 0.28],\n",
    "              [0.19, 0.26, 0, 0.24, 0.31],\n",
    "              [0.17, 0.22, 0.33, 0, 0.28],\n",
    "              [0.18, 0.24, 0.35, 0.23, 0]])\n",
    "\n",
    "N=np.array([20, 15, 17, 13, 18])\n",
    "\n",
    "Nt=np.array([[0,1,0,0,0],\n",
    "            [1,0,1,0,0],\n",
    "            [0,1,0,1,0],\n",
    "            [0,0,1,0,1],\n",
    "            [0,0,0,1,0]])"
   ]
  },
  {
   "cell_type": "markdown",
   "metadata": {},
   "source": [
    "On reprend la même modélisation qu'en classe avec les colonies, on a donc l'espace d'état composé des stations i mais aussi des trajets de i vers j.On a donc: \n",
    "\n",
    "    • les lambda i vers tij pour un vélo qui part de la station i pour faire le trajet tij\n",
    "\n",
    "    • les lambda tij vers j pour un vélo qui arrive à la station j après le trajet tij"
   ]
  },
  {
   "cell_type": "code",
   "execution_count": 3,
   "metadata": {},
   "outputs": [],
   "source": [
    "#Étant donné qu'il ya beaucoup de tau communs et qu'il y a deux matrices lambda,\n",
    "#on peut utiliser une fonction plutôt qu'une matrice:\n",
    "\n",
    "def Lambda_tij_j(i,j):\n",
    "    return 1/tau[i][j]\n",
    "\n",
    "def Lambda_i_tij(i,j):\n",
    "    return Lambda[i]*P[i][j]"
   ]
  },
  {
   "cell_type": "markdown",
   "metadata": {},
   "source": [
    "Faisons maintenant une première simulation pour les transitions de la chaîne de Markov que nous venons de définir :"
   ]
  },
  {
   "cell_type": "code",
   "execution_count": 108,
   "metadata": {},
   "outputs": [
    {
     "name": "stdout",
     "output_type": "stream",
     "text": [
      "[20  0  0  0  0 14  1  0  0  0 16  0  1  0  0 12  0  0  1  0 17  0  0  0\n",
      "  1]\n"
     ]
    }
   ],
   "source": [
    "state =  np.array([20,0,0,0,0,15,0,0,0,0,17,0,0,0,0,13,0,0,0,0,18,0,0,0,0])\n",
    "\n",
    "def randChoice(liste,probas):\n",
    "    n = liste.size\n",
    "    if(n!=probas.size): print(\"error in randChoice\")\n",
    "    else:\n",
    "        rand = np.random.random()\n",
    "        somme=0\n",
    "        for i in range(0,n):\n",
    "            somme=somme+probas[i]\n",
    "            if(rand<somme): return liste[i]\n",
    "            \n",
    "def iteration(state):\n",
    "    nextState = state.copy()\n",
    "    dest=np.array([],dtype=int)\n",
    "    lambdas=np.array([],dtype=float)\n",
    "    for i in range(0,N_stations):\n",
    "        dest = np.append(dest,int(i))\n",
    "        lambdas = np.append(lambdas,0.0)\n",
    "    for i in range(0,N_stations):\n",
    "        for j in range(0,N_stations):\n",
    "            somme=0\n",
    "            if(state[int(5*i+j)]>0):\n",
    "                if j==0:\n",
    "                    for x in range(0,N_stations):\n",
    "                        #ici, erreur sur la manière dont sont associés les lambdas_i qui correspondent\n",
    "                        #aux probas d'aller à la gare i mais sont interprétés comme étant lambdas[0]=je reste, etc\n",
    "                        if(x!=i):\n",
    "                            lambdas[x]=Lambda_i_tij(i,x)\n",
    "                            somme = somme + Lambda_i_tij(i,x)\n",
    "                        else: lambdas[i]=1-Lambda[i]               \n",
    "                    rand = randChoice(dest,lambdas)\n",
    "                    #np.random.choice(dest,1,False,lambdas)\n",
    "                    nextState[int(5*i)]=nextState[int(5*i)]-1\n",
    "                    index=int(5*i+rand)\n",
    "                    nextState[index]=nextState[index]+1\n",
    "                else:\n",
    "                    rand = np.random.random()\n",
    "                    if(j<=i):x=j-1\n",
    "                    else:x=j\n",
    "                    if(rand>Lambda_tij_j(i,x)):\n",
    "                        nextState[5*i+j]=nextState[5*i+j]-1\n",
    "                        nextState[5*j]=nextState[5*j]+1\n",
    "    return nextState\n",
    "\n",
    "nextState = iteration(state)\n",
    "print(nextState)"
   ]
  },
  {
   "cell_type": "markdown",
   "metadata": {},
   "source": [
    "Nous pouvons constater que des vélos sont partis des stations de base en direction d'autres stations, nous avons moins de vélos dans certaines stations et quelques vélo en déplacement. Essayons cette fois de réaliser 150 itérations :"
   ]
  },
  {
   "cell_type": "code",
   "execution_count": 115,
   "metadata": {},
   "outputs": [
    {
     "name": "stdout",
     "output_type": "stream",
     "text": [
      "[ 0  0  0  0  0  2 35  0  0  0  1  0  0  0  0  1  0  0 29  0  2  0  0  0\n",
      " 13]\n"
     ]
    }
   ],
   "source": [
    "for i in range(0,150):\n",
    "    state=iteration(state)\n",
    "print(state)"
   ]
  },
  {
   "cell_type": "code",
   "execution_count": 102,
   "metadata": {},
   "outputs": [
    {
     "name": "stdout",
     "output_type": "stream",
     "text": [
      "[[20.         15.         17.         13.         18.        ]\n",
      " [11.23       16.         22.09       15.37       18.31      ]\n",
      " [12.8258     15.9898     20.5142     15.1189     18.5513    ]\n",
      " [12.525411   15.933838   21.02298    15.113225   18.404546  ]\n",
      " [12.58518519 15.96356576 20.85459179 15.12974896 18.4669083 ]\n",
      " [12.57227944 15.95153737 20.91110668 15.12187679 18.44319973]\n",
      " [12.57536663 15.95597004 20.89199137 15.12488028 18.45179169]\n",
      " [12.57454542 15.95440208 20.89848472 15.12381705 18.44875074]\n",
      " [12.57478448 15.95494595 20.89627363 15.12418252 18.44981343]\n",
      " [12.57471025 15.95475911 20.89702759 15.1240583  18.44944476]\n",
      " [12.57473426 15.954823   20.89677028 15.12410038 18.44957209]\n",
      " [12.5747263  15.95480119 20.89685814 15.12408613 18.44952824]\n",
      " [12.57472897 15.95480863 20.89682813 15.12409096 18.44954331]\n",
      " [12.57472807 15.95480609 20.89683838 15.12408932 18.44953814]\n",
      " [12.57472838 15.95480696 20.89683488 15.12408988 18.44953991]\n",
      " [12.57472827 15.95480666 20.89683607 15.12408969 18.4495393 ]\n",
      " [12.57472831 15.95480676 20.89683567 15.12408975 18.44953951]\n",
      " [12.5747283  15.95480673 20.89683581 15.12408973 18.44953944]\n",
      " [12.5747283  15.95480674 20.89683576 15.12408974 18.44953946]\n",
      " [12.5747283  15.95480674 20.89683577 15.12408973 18.44953946]\n",
      " [12.5747283  15.95480674 20.89683577 15.12408974 18.44953946]]\n"
     ]
    }
   ],
   "source": [
    "state=np.array([[20,15,17,13,18]])\n",
    "stateHist=state\n",
    "hist=state\n",
    "dfStateHist=pd.DataFrame(state)\n",
    "distr_hist = [[0,0,0]]\n",
    "for x in range(20):\n",
    "  state=np.dot(state,P)\n",
    "  #print(state)\n",
    "  stateHist= np.append(stateHist,state,axis=0)\n",
    "  hist = np.append(hist, state)\n",
    "  dfDistrHist = pd.DataFrame(stateHist)\n",
    "  #dfDistrHist.plot()\n",
    "#plt.show()\n",
    "print(stateHist)"
   ]
  },
  {
   "cell_type": "code",
   "execution_count": null,
   "metadata": {},
   "outputs": [],
   "source": []
  }
 ],
 "metadata": {
  "kernelspec": {
   "display_name": "Python 3",
   "language": "python",
   "name": "python3"
  },
  "language_info": {
   "codemirror_mode": {
    "name": "ipython",
    "version": 3
   },
   "file_extension": ".py",
   "mimetype": "text/x-python",
   "name": "python",
   "nbconvert_exporter": "python",
   "pygments_lexer": "ipython3",
   "version": "3.8.10"
  }
 },
 "nbformat": 4,
 "nbformat_minor": 5
}
