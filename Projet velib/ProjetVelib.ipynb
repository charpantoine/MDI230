{
 "cells": [
  {
   "cell_type": "markdown",
   "metadata": {},
   "source": [
    "# Jupyter Notebook du Projet Velib - MDI230\n",
    "\n",
    "Fait par CHARPENTIER Antoine, MENIOLLE Alban et MORANTIN Bastien."
   ]
  },
  {
   "cell_type": "markdown",
   "metadata": {},
   "source": [
    "## Données initiales\n",
    "\n",
    "Tout d'abord, nous commencons par entre les données initiales fournies dans l'énoncé, pour le cas des elibs de Rouen avec 5 stations :"
   ]
  },
  {
   "cell_type": "code",
   "execution_count": 3,
   "metadata": {},
   "outputs": [],
   "source": [
    "Tmoy = [[0,3,5,7,7],[2,0,2,5,5],[4,2,0,3,3],[8,6,4,0,2],[7,7,5,5,2,0]]"
   ]
  },
  {
   "cell_type": "code",
   "execution_count": null,
   "metadata": {},
   "outputs": [],
   "source": []
  }
 ],
 "metadata": {
  "kernelspec": {
   "display_name": "Python 3",
   "language": "python",
   "name": "python3"
  },
  "language_info": {
   "codemirror_mode": {
    "name": "ipython",
    "version": 3
   },
   "file_extension": ".py",
   "mimetype": "text/x-python",
   "name": "python",
   "nbconvert_exporter": "python",
   "pygments_lexer": "ipython3",
   "version": "3.8.10"
  }
 },
 "nbformat": 4,
 "nbformat_minor": 5
}
